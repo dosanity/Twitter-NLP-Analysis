{
 "cells": [
  {
   "cell_type": "markdown",
   "id": "43c90799-20dc-42c5-ad87-aad20672d85f",
   "metadata": {},
   "source": [
    "# Twitter Data Updates"
   ]
  },
  {
   "cell_type": "markdown",
   "id": "fac6e746-f1bc-420e-8905-73b83f0c90ff",
   "metadata": {},
   "source": [
    "This Python code will be used to update and append the data sets created in `TwitterData-Start.ipynb` since we can only access the Twitter data of the last 7 days."
   ]
  },
  {
   "cell_type": "code",
   "execution_count": 1,
   "id": "7437e231-553a-4a9a-8744-1450e48c3836",
   "metadata": {},
   "outputs": [],
   "source": [
    "# Import Dependencies\n",
    "import os\n",
    "import pandas as pd\n",
    "import matplotlib.pyplot as plt\n",
    "import seaborn as sns\n",
    "import datetime\n",
    "import tweepy\n",
    "\n",
    "from config import consumer_key\n",
    "from config import consumer_secret\n",
    "from config import access_token\n",
    "from config import access_token_secret\n",
    "from config import token"
   ]
  },
  {
   "cell_type": "code",
   "execution_count": 2,
   "id": "57ba3499-9b24-471d-852c-ee540d5928ec",
   "metadata": {},
   "outputs": [],
   "source": [
    "# API Keys\n",
    "consumer_key = consumer_key\n",
    "consumer_secret = consumer_secret\n",
    "access_token = access_token\n",
    "access_token_secret = access_token_secret\n",
    "token = token"
   ]
  },
  {
   "cell_type": "markdown",
   "id": "96a13a5c-36ee-4b1e-95a3-78d34a9907a5",
   "metadata": {},
   "source": [
    "## Count of Gas & Oil Tweets"
   ]
  },
  {
   "cell_type": "code",
   "execution_count": 3,
   "id": "9c504cc6-4956-4154-9447-bdbd6c3555f7",
   "metadata": {},
   "outputs": [],
   "source": [
    "query = \"gas oil -is:retweet\"\n",
    "client = tweepy.Client(bearer_token=token)\n",
    "counts = client.get_recent_tweets_count(query=query, \n",
    "                                        granularity='day')"
   ]
  },
  {
   "cell_type": "code",
   "execution_count": 4,
   "id": "0ef9692c-4e0b-4bcf-9326-54c69887178c",
   "metadata": {},
   "outputs": [],
   "source": [
    "Lst = []\n",
    "# Dict = {}\n",
    "for i in counts.data:\n",
    "    Dict = {}\n",
    "    Dict['Day'] = str(i[\"start\"][0:10])\n",
    "    Dict['Tweet Count'] = i[\"tweet_count\"]\n",
    "    Lst.append(Dict)\n",
    "    # print(f'Day: ' + str(i[\"start\"][0:10]) + ', Tweet Count: ' + str(i[\"tweet_count\"]))"
   ]
  },
  {
   "cell_type": "code",
   "execution_count": 5,
   "id": "93c9ac59-ceef-4d46-8437-03a1341467ba",
   "metadata": {},
   "outputs": [],
   "source": [
    "df = pd.DataFrame(Lst)\n",
    "df = pd.DataFrame.from_dict(Lst)\n",
    "df = pd.DataFrame.from_records(Lst)\n",
    "# df.to_csv('tweet_count.csv', index=False) \n",
    "update_df = df.iloc[-2:-1]"
   ]
  },
  {
   "cell_type": "code",
   "execution_count": 6,
   "id": "b8ea6a35-f4c4-42bc-a6d2-9953f251d067",
   "metadata": {},
   "outputs": [
    {
     "data": {
      "text/html": [
       "<div>\n",
       "<style scoped>\n",
       "    .dataframe tbody tr th:only-of-type {\n",
       "        vertical-align: middle;\n",
       "    }\n",
       "\n",
       "    .dataframe tbody tr th {\n",
       "        vertical-align: top;\n",
       "    }\n",
       "\n",
       "    .dataframe thead th {\n",
       "        text-align: right;\n",
       "    }\n",
       "</style>\n",
       "<table border=\"1\" class=\"dataframe\">\n",
       "  <thead>\n",
       "    <tr style=\"text-align: right;\">\n",
       "      <th></th>\n",
       "      <th>Day</th>\n",
       "      <th>Tweet Count</th>\n",
       "    </tr>\n",
       "  </thead>\n",
       "  <tbody>\n",
       "    <tr>\n",
       "      <th>6</th>\n",
       "      <td>2022-12-05</td>\n",
       "      <td>6094</td>\n",
       "    </tr>\n",
       "  </tbody>\n",
       "</table>\n",
       "</div>"
      ],
      "text/plain": [
       "          Day  Tweet Count\n",
       "6  2022-12-05         6094"
      ]
     },
     "execution_count": 6,
     "metadata": {},
     "output_type": "execute_result"
    }
   ],
   "source": [
    "update_df"
   ]
  },
  {
   "cell_type": "code",
   "execution_count": 8,
   "id": "bb41c3e1-5a55-45dd-bb1c-e30455c1c058",
   "metadata": {},
   "outputs": [
    {
     "data": {
      "text/html": [
       "<div>\n",
       "<style scoped>\n",
       "    .dataframe tbody tr th:only-of-type {\n",
       "        vertical-align: middle;\n",
       "    }\n",
       "\n",
       "    .dataframe tbody tr th {\n",
       "        vertical-align: top;\n",
       "    }\n",
       "\n",
       "    .dataframe thead th {\n",
       "        text-align: right;\n",
       "    }\n",
       "</style>\n",
       "<table border=\"1\" class=\"dataframe\">\n",
       "  <thead>\n",
       "    <tr style=\"text-align: right;\">\n",
       "      <th></th>\n",
       "      <th>Day</th>\n",
       "      <th>Tweet Count</th>\n",
       "    </tr>\n",
       "  </thead>\n",
       "  <tbody>\n",
       "    <tr>\n",
       "      <th>0</th>\n",
       "      <td>2022-11-29</td>\n",
       "      <td>5702</td>\n",
       "    </tr>\n",
       "    <tr>\n",
       "      <th>1</th>\n",
       "      <td>2022-11-30</td>\n",
       "      <td>7126</td>\n",
       "    </tr>\n",
       "    <tr>\n",
       "      <th>2</th>\n",
       "      <td>2022-12-01</td>\n",
       "      <td>5882</td>\n",
       "    </tr>\n",
       "    <tr>\n",
       "      <th>3</th>\n",
       "      <td>2022-12-02</td>\n",
       "      <td>5213</td>\n",
       "    </tr>\n",
       "    <tr>\n",
       "      <th>4</th>\n",
       "      <td>2022-12-03</td>\n",
       "      <td>5113</td>\n",
       "    </tr>\n",
       "    <tr>\n",
       "      <th>5</th>\n",
       "      <td>2022-12-04</td>\n",
       "      <td>4672</td>\n",
       "    </tr>\n",
       "    <tr>\n",
       "      <th>6</th>\n",
       "      <td>2022-12-05</td>\n",
       "      <td>6094</td>\n",
       "    </tr>\n",
       "    <tr>\n",
       "      <th>7</th>\n",
       "      <td>2022-12-06</td>\n",
       "      <td>840</td>\n",
       "    </tr>\n",
       "  </tbody>\n",
       "</table>\n",
       "</div>"
      ],
      "text/plain": [
       "          Day  Tweet Count\n",
       "0  2022-11-29         5702\n",
       "1  2022-11-30         7126\n",
       "2  2022-12-01         5882\n",
       "3  2022-12-02         5213\n",
       "4  2022-12-03         5113\n",
       "5  2022-12-04         4672\n",
       "6  2022-12-05         6094\n",
       "7  2022-12-06          840"
      ]
     },
     "execution_count": 8,
     "metadata": {},
     "output_type": "execute_result"
    }
   ],
   "source": [
    "df"
   ]
  },
  {
   "cell_type": "code",
   "execution_count": 7,
   "id": "8dd9cea1-f1ea-4ca4-be76-529cb6bc6ba6",
   "metadata": {},
   "outputs": [],
   "source": [
    "update_df.to_csv('tweet_count.csv', mode='a', index=False, header=False)"
   ]
  },
  {
   "cell_type": "markdown",
   "id": "98efa75b-db5a-46e3-8e94-4e6d9f9bdecf",
   "metadata": {},
   "source": [
    "## Adding Recent Tweets"
   ]
  },
  {
   "cell_type": "code",
   "execution_count": null,
   "id": "c9ac325c-1638-42dd-b94d-b1596478034e",
   "metadata": {},
   "outputs": [],
   "source": [
    "start = '2022-12-05T00:00:00.000Z'\n",
    "end = '2022-12-06T00:00:00.00Z'\n",
    "\n",
    "tweets_list = []\n",
    "\n",
    "tweets = tweepy.Paginator(client.search_recent_tweets, query=query,\n",
    "                          tweet_fields=['context_annotations', 'created_at'],\n",
    "                          start_time=start, \n",
    "                          end_time=end,\n",
    "                          max_results=100).flatten(limit=10000)\n",
    "\n",
    "for tweet in tweets:\n",
    "    tweets_list.append(tweet.text)\n",
    "    \n",
    "len(tweets_list)"
   ]
  },
  {
   "cell_type": "code",
   "execution_count": null,
   "id": "59746bcf-e8e8-4370-8d30-1ee0ae380739",
   "metadata": {},
   "outputs": [],
   "source": [
    "tweet_df = pd.DataFrame(tweets_list)\n",
    "tweet_df.columns = ['2022-12-05']\n",
    "tweet_df = tweet_df.drop_duplicates()\n",
    "tweet_df.to_csv('2022-12-05.csv', index=True) \n",
    "len(tweet_df)"
   ]
  },
  {
   "cell_type": "code",
   "execution_count": null,
   "id": "d44183af-f6ec-40a3-9474-763e0b78bdca",
   "metadata": {},
   "outputs": [],
   "source": [
    "all_tweets = pd.read_csv(\"./tweets.csv\")"
   ]
  },
  {
   "cell_type": "code",
   "execution_count": null,
   "id": "5e72b22a-4443-484b-ab3a-a271464baf4c",
   "metadata": {},
   "outputs": [],
   "source": [
    "all_tweets = all_tweets.join(tweet_df, how='outer')"
   ]
  },
  {
   "cell_type": "code",
   "execution_count": null,
   "id": "51fcc530-69c3-4242-b469-2283b73f35ae",
   "metadata": {},
   "outputs": [],
   "source": [
    "all_tweets = all_tweets.drop(columns=['Unnamed: 0'])\n",
    "all_tweets"
   ]
  },
  {
   "cell_type": "code",
   "execution_count": null,
   "id": "21b686c9-0c9c-4324-9137-0d8d189b8860",
   "metadata": {},
   "outputs": [],
   "source": [
    "all_tweets.to_csv('tweets.csv')"
   ]
  },
  {
   "cell_type": "code",
   "execution_count": null,
   "id": "68ca9f42-b563-4673-a168-824ae78cdfee",
   "metadata": {},
   "outputs": [],
   "source": [
    "all_tweets = all_tweets.dropna()\n",
    "all_tweets.to_csv('tweets_clean.csv')"
   ]
  },
  {
   "cell_type": "code",
   "execution_count": null,
   "id": "484d19e3-3bd3-452e-85a1-c58c8a4654ac",
   "metadata": {},
   "outputs": [],
   "source": [
    "all_tweets"
   ]
  },
  {
   "cell_type": "code",
   "execution_count": null,
   "id": "bb5f7e8a-9478-43d6-b806-d79573ed8f83",
   "metadata": {},
   "outputs": [],
   "source": []
  }
 ],
 "metadata": {
  "kernelspec": {
   "display_name": "Python 3 (ipykernel)",
   "language": "python",
   "name": "python3"
  },
  "language_info": {
   "codemirror_mode": {
    "name": "ipython",
    "version": 3
   },
   "file_extension": ".py",
   "mimetype": "text/x-python",
   "name": "python",
   "nbconvert_exporter": "python",
   "pygments_lexer": "ipython3",
   "version": "3.8.13"
  }
 },
 "nbformat": 4,
 "nbformat_minor": 5
}
