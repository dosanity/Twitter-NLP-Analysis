{
 "cells": [
  {
   "cell_type": "code",
   "execution_count": 16,
   "id": "e7118f5c-e77d-47cb-aec3-f5f9020e7ff7",
   "metadata": {},
   "outputs": [],
   "source": [
    "# Import Dependencies\n",
    "import os\n",
    "import pandas as pd\n",
    "import matplotlib.pyplot as plt\n",
    "import seaborn as sns\n",
    "import datetime\n",
    "import tweepy\n",
    "\n",
    "from config import consumer_key\n",
    "from config import consumer_secret\n",
    "from config import access_token\n",
    "from config import access_token_secret\n",
    "from config import token"
   ]
  },
  {
   "cell_type": "code",
   "execution_count": 17,
   "id": "720f0991-4418-4bec-9fa4-eafd3bd33ebb",
   "metadata": {},
   "outputs": [],
   "source": [
    "# API Keys\n",
    "consumer_key = consumer_key\n",
    "consumer_secret = consumer_secret\n",
    "access_token = access_token\n",
    "access_token_secret = access_token_secret\n",
    "token = token"
   ]
  },
  {
   "cell_type": "code",
   "execution_count": 188,
   "id": "0eef3191-f4d4-4ec7-b100-c4bd528c0598",
   "metadata": {},
   "outputs": [
    {
     "data": {
      "text/plain": [
       "505"
      ]
     },
     "execution_count": 188,
     "metadata": {},
     "output_type": "execute_result"
    }
   ],
   "source": [
    "client = tweepy.Client(bearer_token=token)\n",
    "query = 'gas oil -is:retweet'\n",
    "\n",
    "start = '2022-11-23T01:30:00.000Z'\n",
    "end = '2022-11-24T00:00:00.00Z'\n",
    "\n",
    "tweets_list = []\n",
    "\n",
    "for i in range(1):\n",
    "\n",
    "    tweets = client.search_recent_tweets(query=query, \n",
    "                                         tweet_fields=['context_annotations', \n",
    "                                                       'created_at'], \n",
    "                                         start_time=start, \n",
    "                                         end_time=end,\n",
    "                                         max_results=100)\n",
    "    for tweet in tweets.data:\n",
    "        tweets_list.append(tweet.text)\n",
    "    \n",
    "len(tweets_list)"
   ]
  },
  {
   "cell_type": "code",
   "execution_count": 200,
   "id": "11df6d82-4899-4790-b10b-2ce219b19bc5",
   "metadata": {},
   "outputs": [],
   "source": [
    "tweet_df = pd.DataFrame(tweets_list)\n",
    "tweet_df.columns = ['2022-11-23']\n",
    "tweet_df.drop(tweet_df.tail(5).index,\n",
    "        inplace = True)\n",
    "tweet_df.to_csv('2022-11-23.csv', index=True) "
   ]
  },
  {
   "cell_type": "code",
   "execution_count": 183,
   "id": "8144a185-ff70-46a4-96cb-f872b3bb816e",
   "metadata": {},
   "outputs": [
    {
     "data": {
      "text/plain": [
       "500"
      ]
     },
     "execution_count": 183,
     "metadata": {},
     "output_type": "execute_result"
    }
   ],
   "source": [
    "start = '2022-11-24T00:00:00.000Z'\n",
    "end = '2022-11-25T00:00:00.00Z'\n",
    "\n",
    "tweets_list1 = []\n",
    "\n",
    "for i in range(5):\n",
    "\n",
    "    tweets = client.search_recent_tweets(query=query, \n",
    "                                         tweet_fields=['context_annotations', \n",
    "                                                       'created_at'], \n",
    "                                         start_time=start, \n",
    "                                         end_time=end,\n",
    "                                         max_results=100)\n",
    "    for tweet in tweets.data:\n",
    "        tweets_list1.append(tweet.text)\n",
    "    \n",
    "len(tweets_list1)"
   ]
  },
  {
   "cell_type": "code",
   "execution_count": 223,
   "id": "7cfb49c6-9b31-41c6-be9f-0db92f87fdfb",
   "metadata": {},
   "outputs": [],
   "source": [
    "tweet1_df = pd.DataFrame(tweets_list1)\n",
    "tweet1_df.columns = ['2022-11-24']\n",
    "tweet1_df.to_csv('2022-11-24.csv', index=True) "
   ]
  },
  {
   "cell_type": "code",
   "execution_count": 190,
   "id": "ed2ff262-ddec-41e8-9b7d-6daea15d1283",
   "metadata": {},
   "outputs": [
    {
     "data": {
      "text/plain": [
       "500"
      ]
     },
     "execution_count": 190,
     "metadata": {},
     "output_type": "execute_result"
    }
   ],
   "source": [
    "start = '2022-11-25T00:00:00.000Z'\n",
    "end = '2022-11-26T00:00:00.00Z'\n",
    "\n",
    "tweets_list2 = []\n",
    "\n",
    "for i in range(5):\n",
    "\n",
    "    tweets = client.search_recent_tweets(query=query, \n",
    "                                         tweet_fields=['context_annotations', \n",
    "                                                       'created_at'], \n",
    "                                         start_time=start, \n",
    "                                         end_time=end,\n",
    "                                         max_results=100)\n",
    "    for tweet in tweets.data:\n",
    "        tweets_list2.append(tweet.text)\n",
    "    \n",
    "len(tweets_list2)"
   ]
  },
  {
   "cell_type": "code",
   "execution_count": 217,
   "id": "5c83febe-d4a0-48c5-8085-d9a0b6c12a19",
   "metadata": {},
   "outputs": [],
   "source": [
    "tweet2_df = pd.DataFrame(tweets_list2)\n",
    "tweet2_df.columns = ['2022-11-25']\n",
    "tweet2_df.to_csv('2022-11-25.csv', index=True) "
   ]
  },
  {
   "cell_type": "code",
   "execution_count": 192,
   "id": "c8fe68cc-7838-4a84-9be1-a783cc3c4164",
   "metadata": {},
   "outputs": [
    {
     "data": {
      "text/plain": [
       "500"
      ]
     },
     "execution_count": 192,
     "metadata": {},
     "output_type": "execute_result"
    }
   ],
   "source": [
    "start = '2022-11-26T00:00:00.000Z'\n",
    "end = '2022-11-27T00:00:00.00Z'\n",
    "\n",
    "tweets_list3 = []\n",
    "\n",
    "for i in range(5):\n",
    "\n",
    "    tweets = client.search_recent_tweets(query=query, \n",
    "                                         tweet_fields=['context_annotations', \n",
    "                                                       'created_at'], \n",
    "                                         start_time=start, \n",
    "                                         end_time=end,\n",
    "                                         max_results=100)\n",
    "    for tweet in tweets.data:\n",
    "        tweets_list3.append(tweet.text)\n",
    "    \n",
    "len(tweets_list3)"
   ]
  },
  {
   "cell_type": "code",
   "execution_count": 218,
   "id": "88574069-71b8-4ab3-8d9f-2855b2f3dc3d",
   "metadata": {},
   "outputs": [],
   "source": [
    "tweet3_df = pd.DataFrame(tweets_list3)\n",
    "tweet3_df.columns = ['2022-11-26']\n",
    "tweet3_df.to_csv('2022-11-26.csv', index=True) "
   ]
  },
  {
   "cell_type": "code",
   "execution_count": 195,
   "id": "0099d7b2-f066-4e49-bc56-8749cd0b7174",
   "metadata": {},
   "outputs": [
    {
     "data": {
      "text/plain": [
       "500"
      ]
     },
     "execution_count": 195,
     "metadata": {},
     "output_type": "execute_result"
    }
   ],
   "source": [
    "start = '2022-11-27T00:00:00.000Z'\n",
    "end = '2022-11-28T00:00:00.00Z'\n",
    "\n",
    "tweets_list4 = []\n",
    "\n",
    "for i in range(5):\n",
    "\n",
    "    tweets = client.search_recent_tweets(query=query, \n",
    "                                         tweet_fields=['context_annotations', \n",
    "                                                       'created_at'], \n",
    "                                         start_time=start, \n",
    "                                         end_time=end,\n",
    "                                         max_results=100)\n",
    "    for tweet in tweets.data:\n",
    "        tweets_list4.append(tweet.text)\n",
    "    \n",
    "len(tweets_list4)"
   ]
  },
  {
   "cell_type": "code",
   "execution_count": 219,
   "id": "a345c425-66a1-4b11-acca-e380febabd1d",
   "metadata": {},
   "outputs": [],
   "source": [
    "tweet4_df = pd.DataFrame(tweets_list4)\n",
    "tweet4_df.columns = ['2022-11-27']\n",
    "tweet4_df.to_csv('2022-11-27.csv', index=True) "
   ]
  },
  {
   "cell_type": "code",
   "execution_count": 226,
   "id": "6ce75a19-7bb2-4e45-925b-1f5ea5ad28a1",
   "metadata": {},
   "outputs": [
    {
     "data": {
      "text/plain": [
       "500"
      ]
     },
     "execution_count": 226,
     "metadata": {},
     "output_type": "execute_result"
    }
   ],
   "source": [
    "start = '2022-11-28T00:00:00.000Z'\n",
    "end = '2022-11-29T00:00:00.00Z'\n",
    "\n",
    "tweets_list5 = []\n",
    "\n",
    "for i in range(5):\n",
    "\n",
    "    tweets = client.search_recent_tweets(query=query, \n",
    "                                         tweet_fields=['context_annotations', \n",
    "                                                       'created_at'], \n",
    "                                         start_time=start, \n",
    "                                         end_time=end,\n",
    "                                         max_results=100)\n",
    "    for tweet in tweets.data:\n",
    "        tweets_list5.append(tweet.text)\n",
    "    \n",
    "len(tweets_list5)"
   ]
  },
  {
   "cell_type": "code",
   "execution_count": 227,
   "id": "55f4bd35-dbd7-4cd6-9e35-5c007c2e7841",
   "metadata": {},
   "outputs": [],
   "source": [
    "tweet5_df = pd.DataFrame(tweets_list5)\n",
    "tweet5_df.columns = ['2022-11-28']\n",
    "tweet5_df.to_csv('2022-11-28.csv', index=True) "
   ]
  },
  {
   "cell_type": "code",
   "execution_count": 236,
   "id": "a3ee2bfb-1905-4e8d-b941-4cd44a04257a",
   "metadata": {},
   "outputs": [],
   "source": [
    "all_tweets = tweet_df.join([tweet1_df, tweet2_df, tweet3_df, tweet4_df, tweet5_df])"
   ]
  },
  {
   "cell_type": "code",
   "execution_count": 239,
   "id": "adb5691c-1c2a-43f6-a9a6-e105544f40c7",
   "metadata": {},
   "outputs": [],
   "source": [
    "all_tweets.to_csv('tweets.csv')"
   ]
  },
  {
   "cell_type": "code",
   "execution_count": null,
   "id": "6baea851-966d-4827-b729-08dfb5a5ac23",
   "metadata": {},
   "outputs": [],
   "source": []
  }
 ],
 "metadata": {
  "kernelspec": {
   "display_name": "Python 3 (ipykernel)",
   "language": "python",
   "name": "python3"
  },
  "language_info": {
   "codemirror_mode": {
    "name": "ipython",
    "version": 3
   },
   "file_extension": ".py",
   "mimetype": "text/x-python",
   "name": "python",
   "nbconvert_exporter": "python",
   "pygments_lexer": "ipython3",
   "version": "3.8.13"
  }
 },
 "nbformat": 4,
 "nbformat_minor": 5
}
